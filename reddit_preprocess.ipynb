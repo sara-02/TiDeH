{
 "cells": [
  {
   "cell_type": "code",
   "execution_count": 1,
   "metadata": {},
   "outputs": [
    {
     "name": "stdout",
     "output_type": "stream",
     "text": [
      "38\n"
     ]
    }
   ],
   "source": [
    "import json\n",
    "import numpy as np\n",
    "# # # Load datset\n",
    "with open(\"data/reddit_data/selected_discussion.jsonlist\", \"r\") as f:\n",
    "      data = f.readlines()    \n",
    "n = len(data)\n",
    "print(n)"
   ]
  },
  {
   "cell_type": "code",
   "execution_count": 2,
   "metadata": {},
   "outputs": [],
   "source": [
    "import os"
   ]
  },
  {
   "cell_type": "code",
   "execution_count": 29,
   "metadata": {},
   "outputs": [
    {
     "name": "stdout",
     "output_type": "stream",
     "text": [
      "0\n",
      "1\n",
      "2\n",
      "3\n",
      "4\n",
      "5\n",
      "6\n",
      "7\n",
      "8\n",
      "9\n",
      "10\n",
      "11\n",
      "12\n",
      "13\n",
      "14\n",
      "15\n",
      "16\n",
      "17\n",
      "18\n",
      "19\n",
      "20\n",
      "21\n",
      "22\n",
      "23\n",
      "24\n",
      "25\n",
      "26\n",
      "27\n",
      "28\n",
      "29\n",
      "30\n",
      "31\n",
      "32\n",
      "33\n",
      "34\n",
      "35\n",
      "36\n",
      "37\n"
     ]
    }
   ],
   "source": [
    "subreddit_stats = {}\n",
    "dir_path = os.path.join(\"data\", \"reddit_data\", \"OCT_INPUT\")\n",
    "for i in range(n):\n",
    "    print(i)\n",
    "    each_reddit = json.loads(data[i]) \n",
    "    each_reddit = each_reddit['subreddit']\n",
    "    subreddit_stats[i] = {}\n",
    "    subreddit_stats[i]['total'] = len(each_reddit)\n",
    "    subreddit_stats[i]['atleast_1'] = sum([1 for each_post in each_reddit if len(each_post['comments']) > 0])\n",
    "    subreddit_stats[i]['atleast_10'] = sum([1 for each_post in each_reddit if len(each_post['comments']) >= 10])\n",
    "    if subreddit_stats[i]['atleast_10'] == 0:\n",
    "        continue\n",
    "    sub_dir_path = os.path.join(dir_path, str(i))\n",
    "    os.mkdir(sub_dir_path)\n",
    "    for index, each_post in enumerate(each_reddit): \n",
    "        event_list = []\n",
    "        if len(each_post['comments']) < 10:\n",
    "            continue     \n",
    "        event_list.append(str(len(each_post['comments'])) + \" \" + str(each_post['created_utc']))\n",
    "        for each_comment in each_post['comments']:\n",
    "            event_list.append(str(each_comment['created_utc']) + \" \" + \"1\")\n",
    "        file_path = os.path.join(sub_dir_path, str(index) + \".txt\")\n",
    "        with open(file_path, \"w\") as f:\n",
    "            for each_line in event_list:\n",
    "                f.write(each_line + \"\\n\")  "
   ]
  }
 ],
 "metadata": {
  "kernelspec": {
   "display_name": "Python 3",
   "language": "python",
   "name": "python3"
  },
  "language_info": {
   "codemirror_mode": {
    "name": "ipython",
    "version": 3
   },
   "file_extension": ".py",
   "mimetype": "text/x-python",
   "name": "python",
   "nbconvert_exporter": "python",
   "pygments_lexer": "ipython3",
   "version": "3.6.8"
  }
 },
 "nbformat": 4,
 "nbformat_minor": 2
}
